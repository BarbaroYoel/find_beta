{
 "cells": [
  {
   "cell_type": "markdown",
   "metadata": {},
   "source": [
    "# Fine Beta: Análisis\n",
    "<div style=\"text-align: center;\">\n",
    "    <img src=\"../resources/find_logo.png\" alt=\"Descripción de la imagen\" style=\"width: 30%;\"/>\n",
    "</div>"
   ]
  },
  {
   "cell_type": "markdown",
   "metadata": {},
   "source": [
    "## Navegación entre Notebooks\n",
    "Para explorar las funcionalidades de **Find Beta**, te invitamos a visitar los siguientes notebooks:\n",
    "\n",
    "- [Notebook Introductorio](./introduction_app.ipynb): Te introduce en Find Beta\n",
    "- [Notebook de Búsquedas](./find_searches.ipynb): Realiza búsquedas personalizadas de restaurantes y bares .\n",
    "---"
   ]
  }
 ],
 "metadata": {
  "kernelspec": {
   "display_name": "Python 3",
   "language": "python",
   "name": "python3"
  },
  "language_info": {
   "codemirror_mode": {
    "name": "ipython",
    "version": 3
   },
   "file_extension": ".py",
   "mimetype": "text/x-python",
   "name": "python",
   "nbconvert_exporter": "python",
   "pygments_lexer": "ipython3",
   "version": "3.11.7"
  }
 },
 "nbformat": 4,
 "nbformat_minor": 2
}
