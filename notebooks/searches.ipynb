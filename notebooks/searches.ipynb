{
 "cells": [
  {
   "cell_type": "code",
   "execution_count": 18,
   "metadata": {},
   "outputs": [
    {
     "name": "stdout",
     "output_type": "stream",
     "text": [
      "2             La Lola\n",
      "9    Jorgito's Pizzas\n",
      "4        Fénix Dorado\n",
      "3          Guang Zhou\n",
      "1           Rico Rico\n",
      "6           El Batazo\n",
      "Name: name, dtype: object\n"
     ]
    }
   ],
   "source": [
    "import sys\n",
    "import os\n",
    "parent_directory = os.path.dirname(os.getcwd())\n",
    "folder_path = os.path.join(parent_directory, \"app_functions\")\n",
    "sys.path.append(folder_path)\n",
    "\n",
    "import search as sr \n",
    "import utils as utl\n",
    "\n",
    "df=utl.df\n",
    "\n",
    "resultados = sr.restaurantes_por_precio_plato_inferiores(df, \"pizza\", 800)\n",
    "print(resultados['name'])"
   ]
  }
 ],
 "metadata": {
  "kernelspec": {
   "display_name": "find_env",
   "language": "python",
   "name": "python3"
  },
  "language_info": {
   "codemirror_mode": {
    "name": "ipython",
    "version": 3
   },
   "file_extension": ".py",
   "mimetype": "text/x-python",
   "name": "python",
   "nbconvert_exporter": "python",
   "pygments_lexer": "ipython3",
   "version": "3.12.3"
  }
 },
 "nbformat": 4,
 "nbformat_minor": 2
}
